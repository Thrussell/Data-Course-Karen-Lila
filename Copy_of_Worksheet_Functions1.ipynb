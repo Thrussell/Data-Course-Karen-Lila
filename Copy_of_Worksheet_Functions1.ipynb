{
  "nbformat": 4,
  "nbformat_minor": 0,
  "metadata": {
    "colab": {
      "name": "Copy of Worksheet - Functions1.ipynb",
      "provenance": [],
      "collapsed_sections": [],
      "include_colab_link": true
    },
    "kernelspec": {
      "name": "python3",
      "display_name": "Python 3"
    },
    "language_info": {
      "name": "python"
    }
  },
  "cells": [
    {
      "cell_type": "markdown",
      "metadata": {
        "id": "view-in-github",
        "colab_type": "text"
      },
      "source": [
        "<a href=\"https://colab.research.google.com/github/Thrussell/Data-Course-Karen-Lila/blob/main/Copy_of_Worksheet_Functions1.ipynb\" target=\"_parent\"><img src=\"https://colab.research.google.com/assets/colab-badge.svg\" alt=\"Open In Colab\"/></a>"
      ]
    },
    {
      "cell_type": "markdown",
      "metadata": {
        "id": "0T-HIDf3FgQK"
      },
      "source": [
        "# Python functions\n",
        "\n",
        "---"
      ]
    },
    {
      "cell_type": "markdown",
      "metadata": {
        "id": "YM-csYt5FrvE"
      },
      "source": [
        "You have already been using functions that are provided with Python  \n",
        "*  print()\n",
        "*  input()\n",
        "*  randint() *(from random)*\n",
        "\n",
        "You can tell that they are functions because they have brackets after the name. Often there is some data in the brackets (ie something that you want the function to use on this occasion)\n",
        "\n",
        "*  print(\"Hello\")\n",
        "*  input(\"What is your name? \")\n",
        "*  randint(1,6) *(from the random function library)*\n",
        "\n",
        "The data is called a *parameter* or an *argument*.  There can be any number of parameters passed to a function.  Order is important but can sometimes be overridden.\n",
        "\n",
        "Some functions just do something (e.g. print(\"Hello\") will just print the word Hello)..  \n",
        "\n",
        "Other functions produce some new data which you will assign to a variable:  \n",
        "```\n",
        "name = input(\"What is your name? \")  \n",
        "dice_roll = randint(1,6)\n",
        "```\n",
        "\n",
        "Each time you use a function's name in your program, or in another function, you are calling it and it will run.\n",
        "\n"
      ]
    },
    {
      "cell_type": "markdown",
      "metadata": {
        "id": "Gzod-awDOrGj"
      },
      "source": [
        "---\n",
        "### Exercise 1 - len() of a string\n",
        "\n",
        "Write a function called **get_password()** which will get a password of 8 characters:  \n",
        "\n",
        "*  assign the value \"\" to a variable called **password**  \n",
        "*  start a while loop that will continue to loop while the length of `password` is not 8 characters    \n",
        "*  in the loop:  ask the user to enter a `password`\n",
        "*  after the loop, return the password to the calling program, which will print the valid_password.  \n",
        "\n",
        "Test input:  \n",
        "abddgejkfjkl   \n",
        "999999999  \n",
        "ABCDEFH   \n",
        "\n",
        "Expected output:  \n",
        "ABCDEFGH  "
      ]
    },
    {
      "cell_type": "code",
      "metadata": {
        "id": "VC1h1g3cFb11",
        "colab": {
          "base_uri": "https://localhost:8080/",
          "height": 430
        },
        "outputId": "f87af200-0a79-4379-a908-3a61b72cf2cc"
      },
      "source": [
        "def get_password():\n",
        "  # add your code below here\n",
        "  password = \"\"\n",
        "  while len(password)!= 8:\n",
        "    password = input(\"Give me an 8 letter password\")\n",
        "    if len(password) > 8:\n",
        "      print(\"your password is too long\")\n",
        "    elif len(password) < 8:\n",
        "      print(\"your password is too short\")\n",
        "    else:\n",
        "      valid_password()\n",
        "get_password()    \n",
        "\n",
        "\n",
        "\n",
        "print(get_password())"
      ],
      "execution_count": 2,
      "outputs": [
        {
          "output_type": "stream",
          "text": [
            "Give me an 8 letter passwordDee\n",
            "your password is too short\n",
            "Give me an 8 letter passworddeedeedeedeedee\n",
            "your password is too long\n",
            "Give me an 8 letter passworddeedee01\n"
          ],
          "name": "stdout"
        },
        {
          "output_type": "error",
          "ename": "NameError",
          "evalue": "ignored",
          "traceback": [
            "\u001b[0;31m---------------------------------------------------------------------------\u001b[0m",
            "\u001b[0;31mNameError\u001b[0m                                 Traceback (most recent call last)",
            "\u001b[0;32m<ipython-input-2-ccd53a57f2ae>\u001b[0m in \u001b[0;36m<module>\u001b[0;34m()\u001b[0m\n\u001b[1;32m     10\u001b[0m     \u001b[0;32melse\u001b[0m\u001b[0;34m:\u001b[0m\u001b[0;34m\u001b[0m\u001b[0;34m\u001b[0m\u001b[0m\n\u001b[1;32m     11\u001b[0m       \u001b[0mvalid_password\u001b[0m\u001b[0;34m(\u001b[0m\u001b[0;34m)\u001b[0m\u001b[0;34m\u001b[0m\u001b[0;34m\u001b[0m\u001b[0m\n\u001b[0;32m---> 12\u001b[0;31m \u001b[0mget_password\u001b[0m\u001b[0;34m(\u001b[0m\u001b[0;34m)\u001b[0m\u001b[0;34m\u001b[0m\u001b[0;34m\u001b[0m\u001b[0m\n\u001b[0m\u001b[1;32m     13\u001b[0m \u001b[0;34m\u001b[0m\u001b[0m\n\u001b[1;32m     14\u001b[0m \u001b[0;34m\u001b[0m\u001b[0m\n",
            "\u001b[0;32m<ipython-input-2-ccd53a57f2ae>\u001b[0m in \u001b[0;36mget_password\u001b[0;34m()\u001b[0m\n\u001b[1;32m      9\u001b[0m       \u001b[0mprint\u001b[0m\u001b[0;34m(\u001b[0m\u001b[0;34m\"your password is too short\"\u001b[0m\u001b[0;34m)\u001b[0m\u001b[0;34m\u001b[0m\u001b[0;34m\u001b[0m\u001b[0m\n\u001b[1;32m     10\u001b[0m     \u001b[0;32melse\u001b[0m\u001b[0;34m:\u001b[0m\u001b[0;34m\u001b[0m\u001b[0;34m\u001b[0m\u001b[0m\n\u001b[0;32m---> 11\u001b[0;31m       \u001b[0mvalid_password\u001b[0m\u001b[0;34m(\u001b[0m\u001b[0;34m)\u001b[0m\u001b[0;34m\u001b[0m\u001b[0;34m\u001b[0m\u001b[0m\n\u001b[0m\u001b[1;32m     12\u001b[0m \u001b[0mget_password\u001b[0m\u001b[0;34m(\u001b[0m\u001b[0;34m)\u001b[0m\u001b[0;34m\u001b[0m\u001b[0;34m\u001b[0m\u001b[0m\n\u001b[1;32m     13\u001b[0m \u001b[0;34m\u001b[0m\u001b[0m\n",
            "\u001b[0;31mNameError\u001b[0m: name 'valid_password' is not defined"
          ]
        }
      ]
    },
    {
      "cell_type": "markdown",
      "metadata": {
        "id": "pTC1HwRUQMSa"
      },
      "source": [
        "---\n",
        "### Exercise 2 - capitalise username\n",
        "\n",
        "Write a function called **get_username()** which will:  \n",
        "\n",
        "*  ask the user for a **username**  \n",
        "*  convert the `username` to upper case and assign the new value to a variable called **username_upper**   \n",
        "* if `username_upper` is \"ADMINUSER1\" then return \"Valid user\", otherwise return \"Invalid username\".  The calling program will print the message.  \n",
        "\n",
        "Test input:  \n",
        "admin\n",
        "\n",
        "Expected output:  \n",
        "Invalid username\n",
        "\n",
        "Test input:  \n",
        "AdminUser1\n",
        "\n",
        "Expected output:  \n",
        "Valid user  \n"
      ]
    },
    {
      "cell_type": "code",
      "metadata": {
        "id": "0vusDz8YQMdB",
        "colab": {
          "base_uri": "https://localhost:8080/"
        },
        "outputId": "456867ea-7d8f-4075-be87-db692e65d0f8"
      },
      "source": [
        "def get_username():\n",
        "  # add your code below here\n",
        "  user_name = input(\"What is your username? \")\n",
        "  user_name = user_name.upper()\n",
        "  if user_name == \"ADMINUSER1\":\n",
        "    return \"valid user\"\n",
        "  else:\n",
        "    return \"invalid user name\"\n",
        "\n",
        "\n",
        "print(get_username())"
      ],
      "execution_count": 6,
      "outputs": [
        {
          "output_type": "stream",
          "text": [
            "What is your username? Adminuser2\n",
            "invalid user name\n"
          ],
          "name": "stdout"
        }
      ]
    },
    {
      "cell_type": "markdown",
      "metadata": {
        "id": "SUcNgc6bRfha"
      },
      "source": [
        "---\n",
        "### Exercise 3 - select correct message\n",
        "\n",
        "Write a function called **get_credentials()** which will:  \n",
        "\n",
        "*  ask the user for a **username**  \n",
        "*  ask the user for a **password**  \n",
        "*  return one of the following messages:\n",
        "*  *  \"Credentials accepted\"  \n",
        "*  *  \"Invalid user\"  \n",
        "*  *  \"Password too short\"  \n",
        "\n",
        "Note:  `username` must be \"AdminUser1\" and the password must be at least 8 characters.  The calling program will print the message.  \n",
        "\n",
        "Test input:  \n",
        "AdminUser1\n",
        "abc999def\n",
        "\n",
        "Expected output:  \n",
        "Credentials accepted\n",
        "\n",
        "Test input:  \n",
        "AdminUser1\n",
        "abc\n",
        "\n",
        "Expected output:  \n",
        "Password too short  \n",
        "\n",
        "Test input:  \n",
        "User1\n",
        "abc999def\n",
        "\n",
        "Expected output:  \n",
        "Invalid user  "
      ]
    },
    {
      "cell_type": "code",
      "metadata": {
        "id": "GUjr6u9sRfrh"
      },
      "source": [
        "def get_credentials():\n",
        "  user_name = input(\"What is your username? \")\n",
        "  \n",
        "  if user_name == \"AdminUser1\":\n",
        "    user_pwrd = input(\"What is your password? \") \n",
        "  else:\n",
        "    return \"invalid user\"\n",
        "  if len(user_pwrd) < 8:\n",
        "    return \"password too short\"\n",
        "  else:\n",
        "    return \"credentials accepted\" \n",
        "\n",
        "get_credentials()"
      ],
      "execution_count": null,
      "outputs": []
    },
    {
      "cell_type": "markdown",
      "metadata": {
        "id": "oVIw8G_FTWoS"
      },
      "source": [
        "---\n",
        "### Exercise 3 - round to given dp\n",
        "\n",
        "Write a function called **get_rounded_float()** which will:  \n",
        "\n",
        "*  ask the user for a decimal **number**  \n",
        "*  ask the user for a number of **places** to round to  \n",
        "*  return the number rounded to the requested number of decimal places\n",
        "\n",
        "Note:  The calling program will print the number.  \n",
        "\n",
        "Test input:  \n",
        "3.14159  \n",
        "2\n",
        "\n",
        "Expected output:  \n",
        "3.14  \n",
        "\n",
        "Test input:  \n",
        "98.6666666666666  \n",
        "4  \n",
        "\n",
        "Expected output:  \n",
        "98.6667  "
      ]
    },
    {
      "cell_type": "code",
      "metadata": {
        "id": "AHKffkJbTWxS"
      },
      "source": [
        "def get_rounded_float():\n",
        "  num = float(input(\"Give me a numbr \"))\n",
        "  round_to = int(input(\"How many decimal places? \"))\n",
        "  rounded_num = round(num,round_to)\n",
        "  return rounded_num\n",
        "\n",
        "print(get_rounded_float())"
      ],
      "execution_count": null,
      "outputs": []
    },
    {
      "cell_type": "markdown",
      "metadata": {
        "id": "x4Nl2CQ3T9Aj"
      },
      "source": [
        "---\n",
        "### Exercise 4 - round or not\n",
        "\n",
        "Write a function called **get_rounded_float()** which will:  \n",
        "\n",
        "*  ask the user for a decimal **number**  \n",
        "*  ask the user if they would like to round the number (Y or N) assign this value to **round_number**\n",
        "*  if `round_number` is \"Y\", then ask the user for a number of **places** to round to and return the number rounded to the required number of decimal places  \n",
        "*  otherwise, return the number as it was typed in\n",
        "\n",
        "Note:  The calling program will print the number.  \n",
        "\n",
        "Test input:  \n",
        "3.14159  \n",
        "Y  \n",
        "3\n",
        "\n",
        "Expected output:  \n",
        "3.142\n",
        "\n",
        "Test input:  \n",
        "98.6666666666666  \n",
        "N\n",
        "\n",
        "Expected output:  \n",
        "98.6666666666666  "
      ]
    },
    {
      "cell_type": "code",
      "metadata": {
        "id": "kzLHRud6T9Lo"
      },
      "source": [
        "def get_rounded_float():\n",
        "  num = float(input(\"Give me a numbr \"))\n",
        "  round_or_not = input(\"Do you want to round this number? Y or N\")\n",
        "  if round_or_not == \"Y\":\n",
        "    round_no_places = int(input(\"How many decimal places? \"))\n",
        "    round_to = round(num, round_no_places)\n",
        "    return round_to\n",
        "  else:\n",
        "    print(num)\n",
        "\n",
        "\n",
        "get_rounded_float()"
      ],
      "execution_count": null,
      "outputs": []
    },
    {
      "cell_type": "markdown",
      "metadata": {
        "id": "o2Hl9tOFVA17"
      },
      "source": [
        "---\n",
        "### Exercise 5 - random number and places\n",
        "\n",
        "Write a function called **generate_rounded_float()** which will:  \n",
        "\n",
        "*  import the functions uniform and randint from random (from random import uniform, randint)    \n",
        "Note *: the uniform function will generate a random float between two given boundary numbers ( e.g. number = uniform(10,20)).  It is better practice to name the functions you will be using from a library rather than importing the whole library, which could be large*  \n",
        "\n",
        "*  generate a random decimal **number** between 1 and 10   \n",
        "*  print the `number`   \n",
        "*  generate a random integer **places** between 1 and 4\n",
        "*  print `places`\n",
        "*  return the `number` rounded to the given number of `places`\n",
        "\n",
        "Note:  The calling program will print the number.  \n",
        "\n",
        "Example input:  \n",
        "3.14159  \n",
        "Y  \n",
        "3\n",
        "\n",
        "Expected output:  \n",
        "3.142\n",
        "\n",
        "Test input:  \n",
        "98.6666666666666  \n",
        "N\n",
        "\n",
        "Expected output:  \n",
        "98.6666666666666 "
      ]
    },
    {
      "cell_type": "code",
      "metadata": {
        "id": "c5ufi-U-VBB5"
      },
      "source": [
        ""
      ],
      "execution_count": null,
      "outputs": []
    }
  ]
}